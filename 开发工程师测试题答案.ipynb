{
 "cells": [
  {
   "cell_type": "markdown",
   "metadata": {},
   "source": [
    "# 一、编程题"
   ]
  },
  {
   "cell_type": "markdown",
   "metadata": {},
   "source": [
    "### 1. 从链接页面获取公开数据"
   ]
  },
  {
   "cell_type": "markdown",
   "metadata": {},
   "source": [
    "### 2. 需要获取数据的条件: Bond Type=Treasury Bond, Issue Year=2023"
   ]
  },
  {
   "cell_type": "markdown",
   "metadata": {},
   "source": [
    "### 3. 解析返回表格数据，列名包括ISIN, Bond Code, Issuer, Bond Type, Issue Date, Latest Rating"
   ]
  },
  {
   "cell_type": "markdown",
   "metadata": {},
   "source": [
    "### 4. 保存成有效csv文件"
   ]
  },
  {
   "cell_type": "code",
   "execution_count": 66,
   "metadata": {},
   "outputs": [],
   "source": [
    "import urllib.request\n",
    "import urllib.parse\n",
    "import json\n",
    "import csv\n",
    "import pandas as pd"
   ]
  },
  {
   "cell_type": "code",
   "execution_count": 34,
   "metadata": {},
   "outputs": [],
   "source": [
    "def create_request(page):\n",
    "    base_url='https://iftp.chinamoney.com.cn/ags/ms/cm-u-bond-md/BondMarketInfoListEN'\n",
    "    \n",
    "    data={\n",
    "        'pageNo': page,\n",
    "        'pageSize': '15',\n",
    "        'isin':'', \n",
    "        'bondCode': '',\n",
    "       ' issueEnty': '',\n",
    "        'bondType':'100001',\n",
    "        'couponType':'',\n",
    "        'issueYear': '2023',\n",
    "        'rtngShrt':'',\n",
    "        'bondSpclPrjctVrty': ''\n",
    "    }\n",
    "    \n",
    "    new_data = urllib.parse.urlencode(data).encode('utf-8')\n",
    "    \n",
    "    \n",
    "    headers = {\n",
    "        'User-Agent':'Mozilla/5.0 (Windows NT 10.0; Win64; x64) AppleWebKit/537.36 (KHTML, like Gecko) Chrome/114.0.0.0 Safari/537.36 Edg/114.0.1823.58'\n",
    "    }\n",
    "    \n",
    "    request = urllib.request.Request(url = base_url ,data = new_data ,headers = headers)\n",
    "    return request"
   ]
  },
  {
   "cell_type": "code",
   "execution_count": 35,
   "metadata": {},
   "outputs": [],
   "source": [
    "def get_content(request):\n",
    "    response = urllib.request.urlopen(request)\n",
    "    content = response.read().decode('utf-8')\n",
    "    return content"
   ]
  },
  {
   "cell_type": "code",
   "execution_count": 36,
   "metadata": {},
   "outputs": [],
   "source": [
    "def down_load(page,content):\n",
    "    with open('chinamoney' + str(page) + '.json','w',encoding = 'utf-8') as fp:\n",
    "        fp.write(content)"
   ]
  },
  {
   "cell_type": "code",
   "execution_count": 37,
   "metadata": {},
   "outputs": [
    {
     "name": "stdout",
     "output_type": "stream",
     "text": [
      "起始页码1\n",
      "结束页码4\n"
     ]
    }
   ],
   "source": [
    "if __name__=='__main__':\n",
    "    start_page = int(input('起始页码'))\n",
    "    end_page = int(input('结束页码'))\n",
    "    \n",
    "    for page in range(start_page,end_page+1):\n",
    "        #请求对象定制\n",
    "        request = create_request(page)\n",
    "        #获取网页源码\n",
    "        content = get_content(request)\n",
    "        #下载\n",
    "        down_load(page,content)\n",
    "        \n",
    "        "
   ]
  },
  {
   "cell_type": "code",
   "execution_count": 85,
   "metadata": {},
   "outputs": [],
   "source": [
    "with open(\"chinamoney1.json\", \"r\",encoding = 'utf-8') as read_file:\n",
    "    data1 = json.load(read_file)"
   ]
  },
  {
   "cell_type": "code",
   "execution_count": 86,
   "metadata": {},
   "outputs": [],
   "source": [
    "with open(\"chinamoney2.json\", \"r\",encoding = 'utf-8') as read_file:\n",
    "    data2 = json.load(read_file)"
   ]
  },
  {
   "cell_type": "code",
   "execution_count": 87,
   "metadata": {},
   "outputs": [],
   "source": [
    "with open(\"chinamoney3.json\", \"r\",encoding = 'utf-8') as read_file:\n",
    "    data3 = json.load(read_file)"
   ]
  },
  {
   "cell_type": "code",
   "execution_count": 88,
   "metadata": {},
   "outputs": [],
   "source": [
    "with open(\"chinamoney4.json\", \"r\",encoding = 'utf-8') as read_file:\n",
    "    data4 = json.load(read_file)"
   ]
  },
  {
   "cell_type": "code",
   "execution_count": 89,
   "metadata": {},
   "outputs": [],
   "source": [
    "dataz1 = data1['data'][ 'resultList']\n",
    "dataz2 = data2['data'][ 'resultList']\n",
    "dataz3= data3['data'][ 'resultList']\n",
    "dataz4= data4['data'][ 'resultList']"
   ]
  },
  {
   "cell_type": "code",
   "execution_count": 90,
   "metadata": {},
   "outputs": [],
   "source": [
    "df1 = pd.DataFrame(dataz1)\n",
    "df2 = pd.DataFrame(dataz2)\n",
    "df3 = pd.DataFrame(dataz3)\n",
    "df4 = pd.DataFrame(dataz4)"
   ]
  },
  {
   "cell_type": "code",
   "execution_count": 96,
   "metadata": {},
   "outputs": [],
   "source": [
    "df5 = pd.concat([df1,df2,df3,df4],axis=0)"
   ]
  },
  {
   "cell_type": "code",
   "execution_count": 97,
   "metadata": {},
   "outputs": [],
   "source": [
    "datazs1 = df5[['isin','bondCode','entyFullName','bondType','issueEndDate','debtRtng']] "
   ]
  },
  {
   "cell_type": "code",
   "execution_count": 98,
   "metadata": {},
   "outputs": [],
   "source": [
    "datazs2 = datazs1.rename(columns={\n",
    "                              'isin': 'ISIN',\n",
    "                              'bondCode':'Bond Code',\n",
    "                              'entyFullName':'Issuer',\n",
    "                              'bondType':'Bond Type',\n",
    "                              'issueEndDate':'Issue Date',\n",
    "                              'debtRtng':'Latest Rating'\n",
    "                    })"
   ]
  },
  {
   "cell_type": "code",
   "execution_count": 103,
   "metadata": {},
   "outputs": [],
   "source": [
    "datazs2.to_csv('chinamoney.csv',index=False)"
   ]
  },
  {
   "cell_type": "code",
   "execution_count": null,
   "metadata": {},
   "outputs": [],
   "source": []
  },
  {
   "cell_type": "code",
   "execution_count": null,
   "metadata": {},
   "outputs": [],
   "source": []
  },
  {
   "cell_type": "markdown",
   "metadata": {},
   "source": [
    "# 二、编程题"
   ]
  },
  {
   "cell_type": "markdown",
   "metadata": {},
   "source": [
    "### 一个代码列表长度500，要求以80个为一个批次，拆分成多个数组打印输出，测试数据来源：https://edidata.oss-cn-beijing.aliyuncs.com/fyx_chinamoney.csv，"
   ]
  },
  {
   "cell_type": "code",
   "execution_count": 1,
   "metadata": {},
   "outputs": [],
   "source": [
    "import pandas as pd\n",
    "import math"
   ]
  },
  {
   "cell_type": "code",
   "execution_count": 2,
   "metadata": {},
   "outputs": [],
   "source": [
    "data = pd.read_csv('D:/面试/fyx_chinamoney.csv', header = None)"
   ]
  },
  {
   "cell_type": "code",
   "execution_count": 3,
   "metadata": {},
   "outputs": [
    {
     "name": "stdout",
     "output_type": "stream",
     "text": [
      "data_1             0\n",
      "0   112282672\n",
      "1   112297685\n",
      "2   112297039\n",
      "3   112297076\n",
      "4   112295448\n",
      "..        ...\n",
      "75  112072241\n",
      "76  112072259\n",
      "77  112072261\n",
      "78  112072262\n",
      "79  112072266\n",
      "\n",
      "[80 rows x 1 columns]\n",
      "data_2              0\n",
      "80   112072268\n",
      "81   112072270\n",
      "82   112072274\n",
      "83   112072275\n",
      "84   112072286\n",
      "..         ...\n",
      "155  112071934\n",
      "156  112071938\n",
      "157  112012143\n",
      "158  112015516\n",
      "159  112017287\n",
      "\n",
      "[80 rows x 1 columns]\n",
      "data_3              0\n",
      "160  112019397\n",
      "161  112071653\n",
      "162  112071659\n",
      "163  112071673\n",
      "164  112071676\n",
      "..         ...\n",
      "235  112071346\n",
      "236  112071347\n",
      "237  112071350\n",
      "238  112071365\n",
      "239  112071372\n",
      "\n",
      "[80 rows x 1 columns]\n",
      "data_4              0\n",
      "240  112071374\n",
      "241  112071377\n",
      "242  112071411\n",
      "243  112071415\n",
      "244  112071422\n",
      "..         ...\n",
      "315  112013094\n",
      "316  112014179\n",
      "317  112015481\n",
      "318  112017262\n",
      "319  112020196\n",
      "\n",
      "[80 rows x 1 columns]\n",
      "data_5              0\n",
      "320  112070101\n",
      "321  112070104\n",
      "322  112070105\n",
      "323  112070106\n",
      "324  112070116\n",
      "..         ...\n",
      "395  112089413\n",
      "396  112089415\n",
      "397  112089421\n",
      "398  112089425\n",
      "399  112089432\n",
      "\n",
      "[80 rows x 1 columns]\n",
      "data_6              0\n",
      "400  112089438\n",
      "401  112089439\n",
      "402  112089449\n",
      "403  112089452\n",
      "404  112089468\n",
      "..         ...\n",
      "475  112089079\n",
      "476  112089086\n",
      "477  112089093\n",
      "478  112089106\n",
      "479  112089110\n",
      "\n",
      "[80 rows x 1 columns]\n",
      "data_7              0\n",
      "480  112089118\n",
      "481  112089136\n",
      "482  112089141\n",
      "483  112017244\n",
      "484  112089032\n",
      "485  112089043\n",
      "486  112080857\n",
      "487  112080821\n",
      "488  112080858\n",
      "489  112080889\n",
      "490  112080906\n",
      "491  112098265\n",
      "492  102000803\n",
      "493  102000501\n",
      "494  111977659\n",
      "495  111872089\n",
      "496  111893286\n",
      "497  111893280\n",
      "498  111811069\n",
      "499  112189002\n"
     ]
    }
   ],
   "source": [
    "for i in range(1,math.ceil(len(data)/80)+1):\n",
    "    if i == math.ceil(len(data)/80):\n",
    "        data_1 = data.iloc[((i-1)*80):]\n",
    "    else:\n",
    "        data_1 = data.iloc[((i-1)*80):(i*80)]\n",
    "    print('data_{}'.format(i),data_1)\n",
    "    data_1.to_csv('data_{}.csv'.format(i), index = None, header = None)"
   ]
  },
  {
   "cell_type": "code",
   "execution_count": null,
   "metadata": {},
   "outputs": [],
   "source": []
  },
  {
   "cell_type": "code",
   "execution_count": null,
   "metadata": {},
   "outputs": [],
   "source": []
  },
  {
   "cell_type": "code",
   "execution_count": null,
   "metadata": {},
   "outputs": [],
   "source": []
  }
 ],
 "metadata": {
  "kernelspec": {
   "display_name": "Python 3",
   "language": "python",
   "name": "python3"
  },
  "language_info": {
   "codemirror_mode": {
    "name": "ipython",
    "version": 3
   },
   "file_extension": ".py",
   "mimetype": "text/x-python",
   "name": "python",
   "nbconvert_exporter": "python",
   "pygments_lexer": "ipython3",
   "version": "3.7.6"
  }
 },
 "nbformat": 4,
 "nbformat_minor": 4
}
